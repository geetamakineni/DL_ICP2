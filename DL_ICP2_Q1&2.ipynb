{
  "nbformat": 4,
  "nbformat_minor": 0,
  "metadata": {
    "colab": {
      "name": "DL_ICP2_Q1&2.ipynb",
      "provenance": [],
      "collapsed_sections": []
    },
    "kernelspec": {
      "name": "python3",
      "display_name": "Python 3"
    },
    "accelerator": "GPU"
  },
  "cells": [
    {
      "cell_type": "markdown",
      "metadata": {
        "id": "OfI1eOEvnr2f",
        "colab_type": "text"
      },
      "source": [
        "**From uper Menu choose:**\n",
        "---\n",
        "Runtime --> Change runtime type:\n",
        "---\n",
        "change Hardare accelerator to (gpu)"
      ]
    },
    {
      "cell_type": "code",
      "metadata": {
        "id": "Ry7NRUf0llQ8",
        "colab_type": "code",
        "colab": {
          "base_uri": "https://localhost:8080/",
          "height": 121
        },
        "outputId": "30fa3961-5744-42c8-ee2e-2e2003660222"
      },
      "source": [
        "%tensorflow_version 1.15\n",
        "import tensorflow as tf\n",
        "from keras import Sequential\n",
        "from keras.datasets import mnist\n",
        "import numpy as np\n",
        "from keras.layers import Dense\n",
        "from keras.utils import to_categorical\n",
        "import matplotlib.pyplot as plt\n"
      ],
      "execution_count": 1,
      "outputs": [
        {
          "output_type": "stream",
          "text": [
            "`%tensorflow_version` only switches the major version: 1.x or 2.x.\n",
            "You set: `1.15`. This will be interpreted as: `1.x`.\n",
            "\n",
            "\n",
            "TensorFlow 1.x selected.\n"
          ],
          "name": "stdout"
        },
        {
          "output_type": "stream",
          "text": [
            "Using TensorFlow backend.\n"
          ],
          "name": "stderr"
        }
      ]
    },
    {
      "cell_type": "code",
      "metadata": {
        "id": "XReLyY3jlr-R",
        "colab_type": "code",
        "colab": {
          "base_uri": "https://localhost:8080/",
          "height": 52
        },
        "outputId": "cd1ed745-4da4-45f8-cf74-fcfa3546113a"
      },
      "source": [
        "(train_images,train_labels),(test_images, test_labels) = mnist.load_data()"
      ],
      "execution_count": 2,
      "outputs": [
        {
          "output_type": "stream",
          "text": [
            "Downloading data from https://s3.amazonaws.com/img-datasets/mnist.npz\n",
            "11493376/11490434 [==============================] - 2s 0us/step\n"
          ],
          "name": "stdout"
        }
      ]
    },
    {
      "cell_type": "code",
      "metadata": {
        "id": "RrEOE2a_luF1",
        "colab_type": "code",
        "colab": {
          "base_uri": "https://localhost:8080/",
          "height": 35
        },
        "outputId": "a627ea63-f75c-4211-a2ab-e6f2bca57a51"
      },
      "source": [
        "print(train_images.shape[1:])"
      ],
      "execution_count": 3,
      "outputs": [
        {
          "output_type": "stream",
          "text": [
            "(28, 28)\n"
          ],
          "name": "stdout"
        }
      ]
    },
    {
      "cell_type": "markdown",
      "metadata": {
        "id": "oi1noKXWl0E4",
        "colab_type": "text"
      },
      "source": [
        "#process the data\n",
        "#1. convert each image of shape 28*28 to 784 dimensional which will be fed to the network as a single feature"
      ]
    },
    {
      "cell_type": "code",
      "metadata": {
        "id": "3KcvF2qFlwhr",
        "colab_type": "code",
        "outputId": "dc0f7d37-ea98-40b7-a9a0-5998874e15ce",
        "colab": {
          "base_uri": "https://localhost:8080/",
          "height": 35
        }
      },
      "source": [
        "dimData = np.prod(train_images.shape[1:])\n",
        "print(dimData)\n",
        "train_data = train_images.reshape(train_images.shape[0],dimData)\n",
        "test_data = test_images.reshape(test_images.shape[0],dimData)"
      ],
      "execution_count": 4,
      "outputs": [
        {
          "output_type": "stream",
          "text": [
            "784\n"
          ],
          "name": "stdout"
        }
      ]
    },
    {
      "cell_type": "markdown",
      "metadata": {
        "id": "CI3BKhj0l3fd",
        "colab_type": "text"
      },
      "source": [
        "#convert data to float and scale values between 0 and 1"
      ]
    },
    {
      "cell_type": "code",
      "metadata": {
        "id": "G_XcNfVfl1jH",
        "colab_type": "code",
        "colab": {}
      },
      "source": [
        "train_data = train_data.astype('float')\n",
        "test_data = test_data.astype('float')"
      ],
      "execution_count": 0,
      "outputs": []
    },
    {
      "cell_type": "markdown",
      "metadata": {
        "id": "ODdo3u8Ql8c8",
        "colab_type": "text"
      },
      "source": [
        "#scale data"
      ]
    },
    {
      "cell_type": "code",
      "metadata": {
        "id": "nky9C9FMl7BU",
        "colab_type": "code",
        "colab": {}
      },
      "source": [
        "train_data /=255.0\n",
        "test_data /=255.0"
      ],
      "execution_count": 0,
      "outputs": []
    },
    {
      "cell_type": "markdown",
      "metadata": {
        "id": "PVc9dRURl_oo",
        "colab_type": "text"
      },
      "source": [
        "#change the labels frominteger to one-hot encoding. to_categorical is doing the same thing as LabelEncoder()"
      ]
    },
    {
      "cell_type": "code",
      "metadata": {
        "id": "iGTKxNyYl-nE",
        "colab_type": "code",
        "colab": {}
      },
      "source": [
        "train_labels_one_hot = to_categorical(train_labels)\n",
        "test_labels_one_hot = to_categorical(test_labels)"
      ],
      "execution_count": 0,
      "outputs": []
    },
    {
      "cell_type": "markdown",
      "metadata": {
        "id": "1YFoN0z6mEbR",
        "colab_type": "text"
      },
      "source": [
        "#creating network"
      ]
    },
    {
      "cell_type": "code",
      "metadata": {
        "id": "9ui43p57mCgk",
        "colab_type": "code",
        "colab": {
          "base_uri": "https://localhost:8080/",
          "height": 141
        },
        "outputId": "38e57a83-d0c3-4cc2-8f8e-4995756bfd07"
      },
      "source": [
        "model = Sequential()\n",
        "model.add(Dense(512, activation='relu', input_shape=(dimData,)))\n",
        "model.add(Dense(512, activation='relu'))\n",
        "model.add(Dense(10, activation='softmax'))"
      ],
      "execution_count": 8,
      "outputs": [
        {
          "output_type": "stream",
          "text": [
            "WARNING:tensorflow:From /usr/local/lib/python3.6/dist-packages/keras/backend/tensorflow_backend.py:66: The name tf.get_default_graph is deprecated. Please use tf.compat.v1.get_default_graph instead.\n",
            "\n",
            "WARNING:tensorflow:From /usr/local/lib/python3.6/dist-packages/keras/backend/tensorflow_backend.py:541: The name tf.placeholder is deprecated. Please use tf.compat.v1.placeholder instead.\n",
            "\n",
            "WARNING:tensorflow:From /usr/local/lib/python3.6/dist-packages/keras/backend/tensorflow_backend.py:4432: The name tf.random_uniform is deprecated. Please use tf.random.uniform instead.\n",
            "\n"
          ],
          "name": "stdout"
        }
      ]
    },
    {
      "cell_type": "markdown",
      "metadata": {
        "id": "538_9WbGmp5a",
        "colab_type": "text"
      },
      "source": [
        "# Compile model"
      ]
    },
    {
      "cell_type": "code",
      "metadata": {
        "id": "ck4tEWPMmG0j",
        "colab_type": "code",
        "colab": {
          "base_uri": "https://localhost:8080/",
          "height": 107
        },
        "outputId": "be83aa5d-250e-4384-82fe-78782ea25fe4"
      },
      "source": [
        "model.compile(optimizer='rmsprop', loss='categorical_crossentropy', metrics=['accuracy'])"
      ],
      "execution_count": 9,
      "outputs": [
        {
          "output_type": "stream",
          "text": [
            "WARNING:tensorflow:From /usr/local/lib/python3.6/dist-packages/keras/optimizers.py:793: The name tf.train.Optimizer is deprecated. Please use tf.compat.v1.train.Optimizer instead.\n",
            "\n",
            "WARNING:tensorflow:From /usr/local/lib/python3.6/dist-packages/keras/backend/tensorflow_backend.py:3576: The name tf.log is deprecated. Please use tf.math.log instead.\n",
            "\n"
          ],
          "name": "stdout"
        }
      ]
    },
    {
      "cell_type": "code",
      "metadata": {
        "id": "rsNP_elemr_i",
        "colab_type": "code",
        "colab": {
          "base_uri": "https://localhost:8080/",
          "height": 523
        },
        "outputId": "4dc4d356-265e-4146-99ae-ff7654df9f1a"
      },
      "source": [
        "history = model.fit(train_data, train_labels_one_hot, batch_size=256, epochs=10, verbose=1,\n",
        "                   validation_data=(test_data, test_labels_one_hot))"
      ],
      "execution_count": 15,
      "outputs": [
        {
          "output_type": "stream",
          "text": [
            "WARNING:tensorflow:From /tensorflow-1.15.2/python3.6/tensorflow_core/python/ops/math_grad.py:1424: where (from tensorflow.python.ops.array_ops) is deprecated and will be removed in a future version.\n",
            "Instructions for updating:\n",
            "Use tf.where in 2.0, which has the same broadcast rule as np.where\n",
            "WARNING:tensorflow:From /usr/local/lib/python3.6/dist-packages/keras/backend/tensorflow_backend.py:1033: The name tf.assign_add is deprecated. Please use tf.compat.v1.assign_add instead.\n",
            "\n",
            "WARNING:tensorflow:From /usr/local/lib/python3.6/dist-packages/keras/backend/tensorflow_backend.py:1020: The name tf.assign is deprecated. Please use tf.compat.v1.assign instead.\n",
            "\n",
            "Train on 60000 samples, validate on 10000 samples\n",
            "Epoch 1/10\n",
            "60000/60000 [==============================] - 1s 21us/step - loss: 0.2682 - acc: 0.9182 - val_loss: 0.1869 - val_acc: 0.9386\n",
            "Epoch 2/10\n",
            "60000/60000 [==============================] - 1s 18us/step - loss: 0.0914 - acc: 0.9715 - val_loss: 0.0863 - val_acc: 0.9728\n",
            "Epoch 3/10\n",
            "60000/60000 [==============================] - 1s 18us/step - loss: 0.0574 - acc: 0.9815 - val_loss: 0.0979 - val_acc: 0.9695\n",
            "Epoch 4/10\n",
            "60000/60000 [==============================] - 1s 18us/step - loss: 0.0394 - acc: 0.9872 - val_loss: 0.0747 - val_acc: 0.9761\n",
            "Epoch 5/10\n",
            "60000/60000 [==============================] - 1s 18us/step - loss: 0.0289 - acc: 0.9905 - val_loss: 0.0674 - val_acc: 0.9817\n",
            "Epoch 6/10\n",
            "60000/60000 [==============================] - 1s 18us/step - loss: 0.0214 - acc: 0.9933 - val_loss: 0.0764 - val_acc: 0.9819\n",
            "Epoch 7/10\n",
            "60000/60000 [==============================] - 1s 18us/step - loss: 0.0159 - acc: 0.9946 - val_loss: 0.0805 - val_acc: 0.9807\n",
            "Epoch 8/10\n",
            "60000/60000 [==============================] - 1s 18us/step - loss: 0.0137 - acc: 0.9955 - val_loss: 0.0783 - val_acc: 0.9811\n",
            "Epoch 9/10\n",
            "60000/60000 [==============================] - 1s 18us/step - loss: 0.0112 - acc: 0.9965 - val_loss: 0.0887 - val_acc: 0.9817\n",
            "Epoch 10/10\n",
            "60000/60000 [==============================] - 1s 18us/step - loss: 0.0094 - acc: 0.9970 - val_loss: 0.0903 - val_acc: 0.9810\n"
          ],
          "name": "stdout"
        }
      ]
    },
    {
      "cell_type": "markdown",
      "metadata": {
        "id": "K98y8DrgCEyh",
        "colab_type": "text"
      },
      "source": [
        "Image in the test data at *index*"
      ]
    },
    {
      "cell_type": "code",
      "metadata": {
        "id": "Ld87-pHSnODK",
        "colab_type": "code",
        "colab": {
          "base_uri": "https://localhost:8080/",
          "height": 316
        },
        "outputId": "f5e0dd1c-d5cc-4ab6-ddf5-a873e5d17a6a"
      },
      "source": [
        "[test_loss, test_acc] = model.evaluate(test_data, test_labels_one_hot)\n",
        "print(\"Evaluation result on Test Data : Loss = {}, accuracy = {}\".format(test_loss, test_acc))\n",
        "image_index = 2678\n",
        "plt.imshow(test_data[image_index].reshape(28, 28),cmap='Greys')\n",
        "plt.title(\"Image of Digit from the test data\")\n",
        "plt.show()\n"
      ],
      "execution_count": 19,
      "outputs": [
        {
          "output_type": "stream",
          "text": [
            "10000/10000 [==============================] - 0s 39us/step\n",
            "Evaluation result on Test Data : Loss = 0.09031231538627367, accuracy = 0.981\n"
          ],
          "name": "stdout"
        },
        {
          "output_type": "display_data",
          "data": {
            "image/png": "[encoded data removed]",
            "text/plain": [
              "<Figure size 432x288 with 1 Axes>"
            ]
          },
          "metadata": {
            "tags": []
          }
        }
      ]
    },
    {
      "cell_type": "markdown",
      "metadata": {
        "id": "6uGXNX0BB1q7",
        "colab_type": "text"
      },
      "source": [
        "Predicted digit "
      ]
    },
    {
      "cell_type": "code",
      "metadata": {
        "id": "0W9J6BzH-vbh",
        "colab_type": "code",
        "colab": {
          "base_uri": "https://localhost:8080/",
          "height": 52
        },
        "outputId": "e7277d56-bc71-40b1-b5db-1e4b09c030b6"
      },
      "source": [
        "pred = model.predict(test_data[image_index].reshape(1,784))\n",
        "print(\"Predicted digit:\",pred.argmax())\n",
        "print(history.history.keys())"
      ],
      "execution_count": 20,
      "outputs": [
        {
          "output_type": "stream",
          "text": [
            "Predicted digit: 4\n",
            "dict_keys(['val_loss', 'val_acc', 'loss', 'acc'])\n"
          ],
          "name": "stdout"
        }
      ]
    },
    {
      "cell_type": "markdown",
      "metadata": {
        "id": "nE8ar1JHBuIP",
        "colab_type": "text"
      },
      "source": [
        "# summarize history for accuracy"
      ]
    },
    {
      "cell_type": "code",
      "metadata": {
        "id": "WTFGWsVX7-VE",
        "colab_type": "code",
        "colab": {
          "base_uri": "https://localhost:8080/",
          "height": 295
        },
        "outputId": "b04d107d-cae2-42d1-8378-c84761502b20"
      },
      "source": [
        "\n",
        "plt.plot(history.history['acc'])\n",
        "plt.plot(history.history['val_acc'])\n",
        "plt.title('model accuracy')\n",
        "plt.ylabel('accuracy')\n",
        "plt.xlabel('epoch')\n",
        "plt.legend(['train', 'test'], loc='upper left')\n",
        "plt.show()\n"
      ],
      "execution_count": 18,
      "outputs": [
        {
          "output_type": "display_data",
          "data": {
            "image/png": "[encoded data removed]",
            "text/plain": [
              "<Figure size 432x288 with 1 Axes>"
            ]
          },
          "metadata": {
            "tags": []
          }
        }
      ]
    },
    {
      "cell_type": "markdown",
      "metadata": {
        "id": "onjuMwcXBxzV",
        "colab_type": "text"
      },
      "source": [
        "# summarize history for loss\n",
        "\n"
      ]
    },
    {
      "cell_type": "code",
      "metadata": {
        "id": "Zc0Y8Al98ASp",
        "colab_type": "code",
        "colab": {
          "base_uri": "https://localhost:8080/",
          "height": 295
        },
        "outputId": "e829f4dc-1ff8-4af4-d064-d4d65b6c00d1"
      },
      "source": [
        "plt.plot(history.history['loss'])\n",
        "plt.plot(history.history['val_loss'])\n",
        "plt.title('model loss')\n",
        "plt.ylabel('loss')\n",
        "plt.xlabel('epoch')\n",
        "plt.legend(['train', 'test'], loc='upper left')\n",
        "plt.show()"
      ],
      "execution_count": 19,
      "outputs": [
        {
          "output_type": "display_data",
          "data": {
            "image/png": "[encoded data removed]",
            "text/plain": [
              "<Figure size 432x288 with 1 Axes>"
            ]
          },
          "metadata": {
            "tags": []
          }
        }
      ]
    }
  ]
}